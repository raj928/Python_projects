{
 "metadata": {
  "language_info": {
   "codemirror_mode": {
    "name": "ipython",
    "version": 3
   },
   "file_extension": ".py",
   "mimetype": "text/x-python",
   "name": "python",
   "nbconvert_exporter": "python",
   "pygments_lexer": "ipython3",
   "version": "3.8.3-final"
  },
  "orig_nbformat": 2,
  "kernelspec": {
   "name": "Python 3.8.3 64-bit ('base': conda)",
   "display_name": "Python 3.8.3 64-bit ('base': conda)",
   "metadata": {
    "interpreter": {
     "hash": "6a051af4133909f972fef4c52b3621843639101dc4f477c63fd9942e698f1c8b"
    }
   }
  }
 },
 "nbformat": 4,
 "nbformat_minor": 2,
 "cells": [
  {
   "cell_type": "code",
   "execution_count": null,
   "metadata": {},
   "outputs": [],
   "source": [
    "import pandas as pd\n",
    "import numpy as np\n",
    "import os\n",
    "import tkinter as tk\n",
    "from tkinter import filedialog\n",
    "import sys"
   ]
  },
  {
   "cell_type": "code",
   "execution_count": null,
   "metadata": {},
   "outputs": [],
   "source": [
    "root=tk.Tk()\n",
    "root.withdraw()\n",
    "file=filedialog.askopenfilename(title=\"Select file...\")\n",
    "df_master=pd.read_excel(file,sheet_name=\"All\")"
   ]
  },
  {
   "cell_type": "code",
   "execution_count": null,
   "metadata": {},
   "outputs": [],
   "source": [
    "global_learning=df_master[(df_master['Headcount type']==\"Reported Resources\")&(df_master['Level']!=9)&(df_master['% Funding Allocation']>=50)]\n",
    "global_learning=global_learning[['Last Name','First Name','E Mail','Level','Office','Country','Business Unit']]"
   ]
  },
  {
   "cell_type": "code",
   "execution_count": null,
   "metadata": {},
   "outputs": [],
   "source": [
    "writer=pd.ExcelWriter('Global Learning.xlsx',engine='xlsxwriter',date_format='mm-dd-yyyy',datetime_format='mm-dd-yyyy')\n",
    "global_learning.to_excel(writer,sheet_name='Sheet1',index=False,startrow=1,header=False)\n",
    "workbook=writer.book\n",
    "worksheet=writer.sheets['Sheet1']\n",
    "header_format=workbook.add_format({\n",
    "    'bold':True,\n",
    "    'fg_color':'#000000',\n",
    "    'font_color':'#FFFFFF',\n",
    "    'align':'center',\n",
    "    'border':1})\n",
    "for col_num,value in enumerate(global_learning.columns.values):\n",
    "    worksheet.write(0,col_num,value,header_format)\n",
    "writer.save()"
   ]
  },
  {
   "cell_type": "code",
   "execution_count": null,
   "metadata": {},
   "outputs": [],
   "source": [
    "glen_mills=df_master[(df_master['Office']==\"GLEN MILLS\")]\n",
    "glen_mills.loc[glen_mills['Home address & DOB']=='Not Share','Date of Birth(MM/DD)']=np.nan\n",
    "glen_mills=glen_mills[['SAP ID','Last Name','First Name','E Mail','Employee Type','Level','Office','Country','MF Hire Date','Hire Date','Business Unit','Date of Birth(MM/DD)'\n",
    "]]"
   ]
  },
  {
   "cell_type": "code",
   "execution_count": null,
   "metadata": {},
   "outputs": [],
   "source": [
    "writer=pd.ExcelWriter('Glen Mills HC.xlsx',engine='xlsxwriter',date_format='mm-dd-yyyy',datetime_format='mm-dd-yyyy')\n",
    "glen_mills.to_excel(writer,sheet_name='Sheet1',index=False,startrow=1,header=False)\n",
    "workbook=writer.book\n",
    "worksheet=writer.sheets['Sheet1']\n",
    "header_format=workbook.add_format({\n",
    "    'bold':True,\n",
    "    'fg_color':'#000000',\n",
    "    'font_color':'#FFFFFF',\n",
    "    'align':'center',\n",
    "    'border':1})\n",
    "for col_num,value in enumerate(glen_mills.columns.values):\n",
    "    worksheet.write(0,col_num,value,header_format)\n",
    "writer.save()"
   ]
  },
  {
   "cell_type": "code",
   "execution_count": null,
   "metadata": {},
   "outputs": [],
   "source": [
    "usi_headcount=df_master[(df_master['Headcount type']==\"Reported Resources\")&(df_master['Country']=='INDIA')]\n",
    "usi_headcount=usi_headcount[['Last Name','First Name','E Mail','Classification','Employee Status','Level','Level Name','Office','Country','Employee Type','% Funding Allocation','MF Personnel ID','Department','Department Leader','Business Unit','Business Unit Leader','Division','Division Leader','Function','Service Area','Service Line','Region','EmpowereD Council'\n",
    "]]"
   ]
  },
  {
   "cell_type": "code",
   "execution_count": null,
   "metadata": {},
   "outputs": [],
   "source": [
    "writer=pd.ExcelWriter('USI Headcount.xlsx',engine='xlsxwriter',date_format='mm-dd-yyyy',datetime_format='mm-dd-yyyy')\n",
    "usi_headcount.to_excel(writer,sheet_name='Sheet1',index=False,startrow=1,header=False)\n",
    "workbook=writer.book\n",
    "worksheet=writer.sheets['Sheet1']\n",
    "header_format=workbook.add_format({\n",
    "    'bold':True,\n",
    "    'fg_color':'#000000',\n",
    "    'font_color':'#FFFFFF',\n",
    "    'align':'center',\n",
    "    'border':1})\n",
    "for col_num,value in enumerate(usi_headcount.columns.values):\n",
    "    worksheet.write(0,col_num,value,header_format)\n",
    "writer.save()"
   ]
  },
  {
   "cell_type": "code",
   "execution_count": null,
   "metadata": {},
   "outputs": [],
   "source": [
    "dttl_emp_list=df_master[(df_master['Headcount type']==\"Reported Resources\")&((df_master['Classification']=='DTTL')|(df_master['Classification']=='GFS'))]\n",
    "dttl_emp_list=dttl_emp_list[['Last Name','First Name','E Mail','Level','Office','Country','Employee Type','Personnel Area'\n",
    "]]"
   ]
  },
  {
   "cell_type": "code",
   "execution_count": null,
   "metadata": {},
   "outputs": [],
   "source": [
    "writer=pd.ExcelWriter('DTTL Employees list.xlsx',engine='xlsxwriter',date_format='mm-dd-yyyy',datetime_format='mm-dd-yyyy')\n",
    "dttl_emp_list.to_excel(writer,sheet_name='Sheet1',index=False,startrow=1,header=False)\n",
    "workbook=writer.book\n",
    "worksheet=writer.sheets['Sheet1']\n",
    "header_format=workbook.add_format({\n",
    "    'bold':True,\n",
    "    'fg_color':'#000000',\n",
    "    'font_color':'#FFFFFF',\n",
    "    'align':'center',\n",
    "    'border':1})\n",
    "for col_num,value in enumerate(dttl_emp_list.columns.values):\n",
    "    worksheet.write(0,col_num,value,header_format)\n",
    "writer.save()"
   ]
  },
  {
   "cell_type": "code",
   "execution_count": null,
   "metadata": {},
   "outputs": [],
   "source": [
    "dttl_people_talent=df_master[(df_master['Headcount type']==\"Reported Resources\")&((df_master['Classification']=='DTTL')|(df_master['Classification']=='GFS'))]\n",
    "dttl_people_talent=dttl_people_talent[['SAP ID','Last Name','First Name','E Mail','Classification','Employee Status','Level','Level Name','Country','MF Hire Date','Hire Date','Employee Type','MF Recoverable','MF Personnel ID','Department','Business Unit','Division','BU Rollup','HRBP','HR Coordinator','Service Area'\n",
    "]]"
   ]
  },
  {
   "cell_type": "code",
   "execution_count": null,
   "metadata": {},
   "outputs": [],
   "source": [
    "writer=pd.ExcelWriter('DTTL People Talent.xlsx',engine='xlsxwriter',date_format='mm-dd-yyyy',datetime_format='mm-dd-yyyy')\n",
    "dttl_people_talent.to_excel(writer,sheet_name='Sheet1',index=False,startrow=1,header=False)\n",
    "workbook=writer.book\n",
    "worksheet=writer.sheets['Sheet1']\n",
    "header_format=workbook.add_format({\n",
    "    'bold':True,\n",
    "    'fg_color':'#000000',\n",
    "    'font_color':'#FFFFFF',\n",
    "    'align':'center',\n",
    "    'border':1})\n",
    "for col_num,value in enumerate(dttl_people_talent.columns.values):\n",
    "    worksheet.write(0,col_num,value,header_format)\n",
    "writer.save()"
   ]
  },
  {
   "cell_type": "code",
   "execution_count": null,
   "metadata": {},
   "outputs": [],
   "source": [
    "career_report=df_master[(df_master['Headcount type']==\"Reported Resources\")|(df_master['Employee Type']=='Contractor')]\n",
    "career_report=career_report[['SAP ID','Last Name','First Name','Gender','E Mail','Classification','Employee Status','Level','Level Name','Office','Country','MF Hire Date','Hire Date','Employee Type','Employee Type End Date','Sending Firm','Receiving Firm','Counselor Name','Counselor E Mail','Counselor Level','MF Personnel ID','Personnel Area','Department','Department Leader','Business Unit','Business Unit Leader','Division','Division Leader','HRBP','Function','Service Area','Service Line','Region'\n",
    "]]"
   ]
  },
  {
   "cell_type": "code",
   "execution_count": null,
   "metadata": {},
   "outputs": [],
   "source": [
    "writer=pd.ExcelWriter('Career Report.xlsx',engine='xlsxwriter',date_format='mm-dd-yyyy',datetime_format='mm-dd-yyyy')\n",
    "career_report.to_excel(writer,sheet_name='Sheet1',index=False,startrow=1,header=False)\n",
    "workbook=writer.book\n",
    "worksheet=writer.sheets['Sheet1']\n",
    "header_format=workbook.add_format({\n",
    "    'bold':True,\n",
    "    'fg_color':'#000000',\n",
    "    'font_color':'#FFFFFF',\n",
    "    'align':'center',\n",
    "    'border':1})\n",
    "for col_num,value in enumerate(career_report.columns.values):\n",
    "    worksheet.write(0,col_num,value,header_format)\n",
    "writer.save()"
   ]
  },
  {
   "cell_type": "code",
   "execution_count": null,
   "metadata": {},
   "outputs": [],
   "source": [
    "dttl_people_hc=df_master[(df_master['Headcount type']==\"Reported Resources\")|(df_master['Employee Type']=='Contractor')]\n",
    "dttl_people_hc=dttl_people_hc[['SAP ID','Last Name','First Name','Gender','E Mail','Classification','Employee Status','Level','Level Name','Office','Country','MF Hire Date','Hire Date','Employee Type','Employee Type End Date','Sending Firm','Receiving Firm','Counselor Name','Counselor E Mail','Counselor Level','MF Personnel ID','Personnel Area','Department','Department Leader','Business Unit','Business Unit Leader','Division','Division Leader','HRBP','Function','Service Area','Service Line','Region'\n",
    "]]"
   ]
  },
  {
   "cell_type": "code",
   "execution_count": null,
   "metadata": {},
   "outputs": [],
   "source": [
    "writer=pd.ExcelWriter('DTTL People Headcount.xlsx',engine='xlsxwriter',date_format='mm-dd-yyyy',datetime_format='mm-dd-yyyy')\n",
    "dttl_people_hc.to_excel(writer,sheet_name='Sheet1',index=False,startrow=1,header=False)\n",
    "workbook=writer.book\n",
    "worksheet=writer.sheets['Sheet1']\n",
    "header_format=workbook.add_format({\n",
    "    'bold':True,\n",
    "    'fg_color':'#000000',\n",
    "    'font_color':'#FFFFFF',\n",
    "    'align':'center',\n",
    "    'border':1})\n",
    "for col_num,value in enumerate(dttl_people_hc.columns.values):\n",
    "    worksheet.write(0,col_num,value,header_format)\n",
    "writer.save()"
   ]
  },
  {
   "cell_type": "code",
   "execution_count": null,
   "metadata": {},
   "outputs": [],
   "source": [
    "global_hc=df_master[['SAP ID','Last Name','First Name','E Mail','Classification','Employee Status','Level','Level Name','Country','MF Hire Date','Hire Date','Employee Type','MF Recoverable','MF Personnel ID','Department','Business Unit','Division','BU Rollup','HRBP','HR Coordinator','Service Area'\n",
    "]]"
   ]
  },
  {
   "cell_type": "code",
   "execution_count": null,
   "metadata": {},
   "outputs": [],
   "source": [
    "writer=pd.ExcelWriter('Global Headcount.xlsx',engine='xlsxwriter',date_format='mm-dd-yyyy',datetime_format='mm-dd-yyyy')\n",
    "global_hc.to_excel(writer,sheet_name='Sheet1',index=False,startrow=1,header=False)\n",
    "workbook=writer.book\n",
    "worksheet=writer.sheets['Sheet1']\n",
    "header_format=workbook.add_format({\n",
    "    'bold':True,\n",
    "    'fg_color':'#000000',\n",
    "    'font_color':'#FFFFFF',\n",
    "    'align':'center',\n",
    "    'border':1})\n",
    "for col_num,value in enumerate(global_hc.columns.values):\n",
    "    worksheet.write(0,col_num,value,header_format)\n",
    "writer.save()"
   ]
  },
  {
   "cell_type": "code",
   "execution_count": null,
   "metadata": {},
   "outputs": [],
   "source": [
    "dtts_headcount=df_master[(df_master['Headcount type']==\"Reported Resources\")&(df_master['Personnel Area'].str.startswith('DTTS'))]\n",
    "dtts_headcount=dtts_headcount[['MF Personnel ID','Last Name','First Name','E Mail','Employee Type','Counselor Name','Counselor E Mail','Business Unit','HRBP','Department','Department Leader'\n",
    "]]\n",
    "dtts_headcount.insert(loc=9,column=\"HRBP Email\",value=np.nan)"
   ]
  },
  {
   "cell_type": "code",
   "execution_count": null,
   "metadata": {},
   "outputs": [],
   "source": [
    "writer=pd.ExcelWriter('DTTS Headcount.xlsx',engine='xlsxwriter',date_format='mm-dd-yyyy',datetime_format='mm-dd-yyyy')\n",
    "dtts_headcount.to_excel(writer,sheet_name='Sheet1',index=False,startrow=1,header=False)\n",
    "workbook=writer.book\n",
    "worksheet=writer.sheets['Sheet1']\n",
    "header_format=workbook.add_format({\n",
    "    'bold':True,\n",
    "    'fg_color':'#000000',\n",
    "    'font_color':'#FFFFFF',\n",
    "    'align':'center',\n",
    "    'border':1})\n",
    "for col_num,value in enumerate(dtts_headcount.columns.values):\n",
    "    worksheet.write(0,col_num,value,header_format)\n",
    "writer.save()"
   ]
  },
  {
   "cell_type": "code",
   "execution_count": null,
   "metadata": {},
   "outputs": [],
   "source": [
    "dtts_hc=df_master[(df_master['Headcount type']==\"Reported Resources\")&(df_master['Personnel Area'].str.startswith('DTTS'))]\n",
    "dtts_hc=dtts_hc[['MF Personnel ID','Last Name','First Name','E Mail','Employee Type','Counselor Name','Counselor E Mail','Business Unit','HRBP','HR Coordinator'\n",
    "]]\n",
    "dtts_hc.insert(loc=9,column=\"HRBP Email\",value=np.nan)\n",
    "dtts_hc.insert(loc=11,column=\"HR Coordinator Email\",value=np.nan)"
   ]
  },
  {
   "cell_type": "code",
   "execution_count": null,
   "metadata": {},
   "outputs": [],
   "source": [
    "writer=pd.ExcelWriter('DTTS HC Report.xlsx',engine='xlsxwriter',date_format='mm-dd-yyyy',datetime_format='mm-dd-yyyy')\n",
    "dtts_hc.to_excel(writer,sheet_name='Sheet1',index=False,startrow=1,header=False)\n",
    "workbook=writer.book\n",
    "worksheet=writer.sheets['Sheet1']\n",
    "header_format=workbook.add_format({\n",
    "    'bold':True,\n",
    "    'fg_color':'#000000',\n",
    "    'font_color':'#FFFFFF',\n",
    "    'align':'center',\n",
    "    'border':1})\n",
    "for col_num,value in enumerate(dtts_hc.columns.values):\n",
    "    worksheet.write(0,col_num,value,header_format)\n",
    "writer.save()"
   ]
  },
  {
   "cell_type": "code",
   "execution_count": null,
   "metadata": {},
   "outputs": [],
   "source": [
    "core_procurement=df_master[((df_master['Headcount type']==\"Reported Resources\")|(df_master['Headcount type']==\"Other Resources\"))&(df_master['Business Unit']=='CoRe-Procurement')]\n",
    "core_procurement=core_procurement[['SAP ID','Last Name','First Name','E Mail','Classification','Headcount type','Employee Status','Level','Level Name','Time in Level(Yrs)','Last Promotion Date','Office','City','State','Country','Region','EmpowereD Council','MF Hire Date','Hire Date','Deloitte Service Date','Total Deloitte Tenure','Total Global Tenure','Employee Type','Employee Type End Date','Sending Firm','Receiving Firm','PM Scope','Compensation Guidelines','Employment %','% Funding Allocation','% Time Allocation','FTE((Emp % * Funding %)/10000)','MF RC','SAP Cost Center','MF Personnel ID','MF Job Code','MF Level','MF Job Title','SAP Job Title','Primary Role','Counselor Name','Counselor E Mail','Counselor Level','Personnel Area','Department','Division Leader','BU Rollup','Service Area','Chief of Staff'\n",
    "]]"
   ]
  },
  {
   "cell_type": "code",
   "execution_count": null,
   "metadata": {},
   "outputs": [],
   "source": [
    "writer=pd.ExcelWriter('CoRe Procurement HC.xlsx',engine='xlsxwriter',date_format='mm-dd-yyyy',datetime_format='mm-dd-yyyy')\n",
    "core_procurement.to_excel(writer,sheet_name='Sheet1',index=False,startrow=1,header=False)\n",
    "workbook=writer.book\n",
    "worksheet=writer.sheets['Sheet1']\n",
    "header_format=workbook.add_format({\n",
    "    'bold':True,\n",
    "    'fg_color':'#000000',\n",
    "    'font_color':'#FFFFFF',\n",
    "    'align':'center',\n",
    "    'border':1})\n",
    "for col_num,value in enumerate(core_procurement.columns.values):\n",
    "    worksheet.write(0,col_num,value,header_format)\n",
    "writer.save()"
   ]
  },
  {
   "cell_type": "code",
   "execution_count": null,
   "metadata": {},
   "outputs": [],
   "source": [
    "global_hc_heather=df_master[df_master['Employee Type']!='Non-DTTL Counselor']\n",
    "global_hc_heather=global_hc_heather[['SAP ID','Last Name','First Name','E Mail','Classification','Office','Country','Sending Firm','Receiving Firm','Personnel Area','Department','Department Leader','Business Unit','Business Unit Leader','Division','Division Leader','HRBP','Function','Service Area']]"
   ]
  },
  {
   "cell_type": "code",
   "execution_count": null,
   "metadata": {},
   "outputs": [],
   "source": [
    "writer=pd.ExcelWriter('Global Headcount - Heather.xlsx',engine='xlsxwriter',date_format='mm-dd-yyyy',datetime_format='mm-dd-yyyy')\n",
    "global_hc_heather.to_excel(writer,sheet_name='Sheet1',index=False,startrow=1,header=False)\n",
    "workbook=writer.book\n",
    "worksheet=writer.sheets['Sheet1']\n",
    "header_format=workbook.add_format({\n",
    "    'bold':True,\n",
    "    'fg_color':'#000000',\n",
    "    'font_color':'#FFFFFF',\n",
    "    'align':'center',\n",
    "    'border':1})\n",
    "for col_num,value in enumerate(global_hc_heather.columns.values):\n",
    "    worksheet.write(0,col_num,value,header_format)\n",
    "writer.save()"
   ]
  },
  {
   "cell_type": "code",
   "execution_count": null,
   "metadata": {},
   "outputs": [],
   "source": [
    "global_brand=df_master[df_master['Business Unit']=='Global Brand']\n",
    "global_brand=global_brand[['Last Name','First Name','E Mail','Employee Status','Level','Level Name','Office','Country','MF Hire Date','Hire Date','Employee Type','% Funding Allocation','% Time Allocation','FTE((Emp % * Funding %)/10000)','Counselor Name','Counselor E Mail','Department','Business Unit','Division']]"
   ]
  },
  {
   "cell_type": "code",
   "execution_count": null,
   "metadata": {},
   "outputs": [],
   "source": [
    "writer=pd.ExcelWriter('Global Brand HC.xlsx',engine='xlsxwriter',date_format='mm-dd-yyyy',datetime_format='mm-dd-yyyy')\n",
    "global_brand.to_excel(writer,sheet_name='Sheet1',index=False,startrow=1,header=False)\n",
    "workbook=writer.book\n",
    "worksheet=writer.sheets['Sheet1']\n",
    "header_format=workbook.add_format({\n",
    "    'bold':True,\n",
    "    'fg_color':'#000000',\n",
    "    'font_color':'#FFFFFF',\n",
    "    'align':'center',\n",
    "    'border':1})\n",
    "for col_num,value in enumerate(global_brand.columns.values):\n",
    "    worksheet.write(0,col_num,value,header_format)\n",
    "writer.save()"
   ]
  },
  {
   "cell_type": "code",
   "execution_count": null,
   "metadata": {},
   "outputs": [],
   "source": [
    "global_innovation=df_master[df_master['Business Unit']=='Global Innovation']\n",
    "global_innovation=global_innovation[['SAP ID','Last Name','First Name','E Mail','Level','Office','MF Hire Date','Hire Date','Employee Type','Employment %','% Funding Allocation','% Time Allocation','FTE((Emp % * Funding %)/10000)','MF RC','SAP Cost Center','MF Personnel ID','Counselor Name','Department']]"
   ]
  },
  {
   "cell_type": "code",
   "execution_count": null,
   "metadata": {},
   "outputs": [],
   "source": [
    "writer=pd.ExcelWriter('Global Innovation HC.xlsx',engine='xlsxwriter',date_format='mm-dd-yyyy',datetime_format='mm-dd-yyyy')\n",
    "global_innovation.to_excel(writer,sheet_name='Sheet1',index=False,startrow=1,header=False)\n",
    "workbook=writer.book\n",
    "worksheet=writer.sheets['Sheet1']\n",
    "header_format=workbook.add_format({\n",
    "    'bold':True,\n",
    "    'fg_color':'#000000',\n",
    "    'font_color':'#FFFFFF',\n",
    "    'align':'center',\n",
    "    'border':1})\n",
    "for col_num,value in enumerate(global_innovation.columns.values):\n",
    "    worksheet.write(0,col_num,value,header_format)\n",
    "writer.save()"
   ]
  },
  {
   "cell_type": "code",
   "execution_count": null,
   "metadata": {},
   "outputs": [],
   "source": [
    "global_talent=df_master[df_master['Business Unit']=='Global Talent']\n",
    "global_talent=global_talent[['Last Name','First Name','E Mail','Level','Level Name','Office','Country','MF Hire Date','Hire Date','Employee Type','Counselor Name','Department','Department Leader','Business Unit']]"
   ]
  },
  {
   "cell_type": "code",
   "execution_count": null,
   "metadata": {},
   "outputs": [],
   "source": [
    "writer=pd.ExcelWriter('Global Talent HC.xlsx',engine='xlsxwriter',date_format='mm-dd-yyyy',datetime_format='mm-dd-yyyy')\n",
    "global_talent.to_excel(writer,sheet_name='Sheet1',index=False,startrow=1,header=False)\n",
    "workbook=writer.book\n",
    "worksheet=writer.sheets['Sheet1']\n",
    "header_format=workbook.add_format({\n",
    "    'bold':True,\n",
    "    'fg_color':'#000000',\n",
    "    'font_color':'#FFFFFF',\n",
    "    'align':'center',\n",
    "    'border':1})\n",
    "for col_num,value in enumerate(global_talent.columns.values):\n",
    "    worksheet.write(0,col_num,value,header_format)\n",
    "writer.save()"
   ]
  },
  {
   "cell_type": "code",
   "execution_count": null,
   "metadata": {},
   "outputs": [],
   "source": [
    "op_finance=df_master[df_master['Business Unit']=='Operations-Finance']\n",
    "op_finance=op_finance[['Last Name','First Name','E Mail','Employee Status','Level','Office','Country','MF Hire Date','Hire Date','Employee Type','Counselor Name','Counselor E Mail','Department','Department Leader','Business Unit']]"
   ]
  },
  {
   "cell_type": "code",
   "execution_count": null,
   "metadata": {},
   "outputs": [],
   "source": [
    "writer=pd.ExcelWriter('Operations - Finance HC.xlsx',engine='xlsxwriter',date_format='mm-dd-yyyy',datetime_format='mm-dd-yyyy')\n",
    "op_finance.to_excel(writer,sheet_name='Sheet1',index=False,startrow=1,header=False)\n",
    "workbook=writer.book\n",
    "worksheet=writer.sheets['Sheet1']\n",
    "header_format=workbook.add_format({\n",
    "    'bold':True,\n",
    "    'fg_color':'#000000',\n",
    "    'font_color':'#FFFFFF',\n",
    "    'align':'center',\n",
    "    'border':1})\n",
    "for col_num,value in enumerate(op_finance.columns.values):\n",
    "    worksheet.write(0,col_num,value,header_format)\n",
    "writer.save()"
   ]
  },
  {
   "cell_type": "code",
   "execution_count": null,
   "metadata": {},
   "outputs": [],
   "source": [
    "global_consulting=df_master[df_master['Division']=='Global Consulting']\n",
    "global_consulting=global_consulting[['Last Name','First Name','E Mail','Employee Status','Level','Office','Country','MF Hire Date','Hire Date','Employee Type','Counselor Name','Counselor E Mail','Department','Department Leader','Business Unit']]\n",
    "global_consulting=global_consulting.sort_values(by='Department')"
   ]
  },
  {
   "cell_type": "code",
   "execution_count": null,
   "metadata": {},
   "outputs": [],
   "source": [
    "writer=pd.ExcelWriter('Global Consulting HC.xlsx',engine='xlsxwriter',date_format='mm-dd-yyyy',datetime_format='mm-dd-yyyy')\n",
    "global_consulting.to_excel(writer,sheet_name='Sheet1',index=False,startrow=1,header=False)\n",
    "workbook=writer.book\n",
    "worksheet=writer.sheets['Sheet1']\n",
    "header_format=workbook.add_format({\n",
    "    'bold':True,\n",
    "    'fg_color':'#000000',\n",
    "    'font_color':'#FFFFFF',\n",
    "    'align':'center',\n",
    "    'border':1})\n",
    "for col_num,value in enumerate(global_consulting.columns.values):\n",
    "    worksheet.write(0,col_num,value,header_format)\n",
    "writer.save()"
   ]
  },
  {
   "cell_type": "code",
   "execution_count": null,
   "metadata": {},
   "outputs": [],
   "source": [
    "global_strategy=df_master[df_master['Department']=='Global Strategy']\n",
    "global_strategy=global_strategy[['Last Name','First Name','E Mail','Employee Status','Level','Office','Country','MF Hire Date','Hire Date','Employee Type','Counselor Name','Counselor E Mail','Department','Department Leader','Business Unit']]"
   ]
  },
  {
   "cell_type": "code",
   "execution_count": null,
   "metadata": {},
   "outputs": [],
   "source": [
    "writer=pd.ExcelWriter('Global Strategy.xlsx',engine='xlsxwriter',date_format='mm-dd-yyyy',datetime_format='mm-dd-yyyy')\n",
    "global_strategy.to_excel(writer,sheet_name='Sheet1',index=False,startrow=1,header=False)\n",
    "workbook=writer.book\n",
    "worksheet=writer.sheets['Sheet1']\n",
    "header_format=workbook.add_format({\n",
    "    'bold':True,\n",
    "    'fg_color':'#000000',\n",
    "    'font_color':'#FFFFFF',\n",
    "    'align':'center',\n",
    "    'border':1})\n",
    "for col_num,value in enumerate(global_strategy.columns.values):\n",
    "    worksheet.write(0,col_num,value,header_format)\n",
    "writer.save()"
   ]
  },
  {
   "cell_type": "code",
   "execution_count": null,
   "metadata": {},
   "outputs": [],
   "source": []
  }
 ]
}